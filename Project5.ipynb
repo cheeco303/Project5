{
 "cells": [
  {
   "cell_type": "code",
   "execution_count": null,
   "id": "6dd58949",
   "metadata": {},
   "outputs": [],
   "source": [
    "# Build insurance price prediction model using Neural Network. \n",
    "# Dataset insurance.csv"
   ]
  },
  {
   "cell_type": "code",
   "execution_count": 21,
   "id": "994e4026",
   "metadata": {},
   "outputs": [
    {
     "name": "stdout",
     "output_type": "stream",
     "text": [
      "   age     sex     bmi  children smoker     region      charges\n",
      "0   19  female  27.900         0    yes  southwest  16884.92400\n",
      "1   18    male  33.770         1     no  southeast   1725.55230\n",
      "2   28    male  33.000         3     no  southeast   4449.46200\n",
      "3   33    male  22.705         0     no  northwest  21984.47061\n",
      "4   32    male  28.880         0     no  northwest   3866.85520\n"
     ]
    }
   ],
   "source": [
    "# Importing all the required libraries \n",
    "\n",
    "import pandas as pd\n",
    "from sklearn.model_selection import train_test_split\n",
    "from sklearn.preprocessing import StandardScaler\n",
    "from tensorflow.keras.models import Sequential\n",
    "from tensorflow.keras.layers import Dense, Dropout, Input\n",
    "from tensorflow.keras.callbacks import EarlyStopping\n",
    "from sklearn.metrics import r2_score\n",
    "import numpy as np\n",
    "\n",
    "# Load the dataset\n",
    "\n",
    "data = pd.read_csv(\"/Users/diboshbaruah/Desktop/Python/insurance.csv\")\n",
    "print(data.head())"
   ]
  },
  {
   "cell_type": "code",
   "execution_count": 23,
   "id": "67ce0636-3641-4104-801c-05f98ff8f77c",
   "metadata": {},
   "outputs": [
    {
     "name": "stdout",
     "output_type": "stream",
     "text": [
      "age         0\n",
      "sex         0\n",
      "bmi         0\n",
      "children    0\n",
      "smoker      0\n",
      "region      0\n",
      "charges     0\n",
      "dtype: int64\n"
     ]
    }
   ],
   "source": [
    "# Checking the dataset for missing values\n",
    "\n",
    "missing_values = data.isnull().sum()\n",
    "print(missing_values)"
   ]
  },
  {
   "cell_type": "code",
   "execution_count": 25,
   "id": "aaf4ee45",
   "metadata": {},
   "outputs": [],
   "source": [
    "# Converting categorical variables to dummy variables\n",
    "\n",
    "data = pd.get_dummies(data, columns=['sex', 'smoker', 'region'], drop_first=True)\n"
   ]
  },
  {
   "cell_type": "code",
   "execution_count": 27,
   "id": "42798e80",
   "metadata": {},
   "outputs": [],
   "source": [
    "# Separating features and target variable\n",
    "\n",
    "X = data.drop(['charges'], axis=1)\n",
    "y = data['charges']\n"
   ]
  },
  {
   "cell_type": "code",
   "execution_count": 29,
   "id": "8714b9e6",
   "metadata": {},
   "outputs": [],
   "source": [
    "# Splitting the dataset into training and testing sets (80% training, 20% testing)\n",
    "\n",
    "X_train, X_test, y_train, y_test = train_test_split(X, y, test_size=0.2, random_state=42)\n"
   ]
  },
  {
   "cell_type": "code",
   "execution_count": 33,
   "id": "70e22a7a-3b8f-411e-8729-6605dc40d9d0",
   "metadata": {},
   "outputs": [],
   "source": [
    "# Scaling features\n",
    "\n",
    "scaler = StandardScaler()\n",
    "X_train_scaled = scaler.fit_transform(X_train)\n",
    "X_test_scaled = scaler.transform(X_test)\n",
    "\n",
    "# Scaling target variable\n",
    "\n",
    "scaler_y = StandardScaler()\n",
    "y_train_scaled = scaler_y.fit_transform(y_train.values.reshape(-1, 1))\n",
    "y_test_scaled = scaler_y.transform(y_test.values.reshape(-1, 1))\n"
   ]
  },
  {
   "cell_type": "code",
   "execution_count": 35,
   "id": "b1a6d997-4c20-4aa4-8cf2-19c303228146",
   "metadata": {},
   "outputs": [],
   "source": [
    "# Model definition using Input layer\n",
    "\n",
    "model = Sequential()\n",
    "\n",
    "# Input layer\n",
    "\n",
    "model.add(Input(shape=(X_train_scaled.shape[1],)))  \n",
    "model.add(Dense(128, activation='relu', kernel_regularizer='l2'))\n",
    "model.add(Dropout(0.3))\n",
    "model.add(Dense(64, activation='relu', kernel_regularizer='l2'))\n",
    "model.add(Dropout(0.2))\n",
    "model.add(Dense(32, activation='relu'))\n",
    "\n",
    "# Output layer for regression\n",
    "\n",
    "model.add(Dense(1, activation='linear'))  \n"
   ]
  },
  {
   "cell_type": "code",
   "execution_count": 37,
   "id": "068d0eef-4016-41cc-9e9a-e9c46bb3a501",
   "metadata": {},
   "outputs": [
    {
     "name": "stdout",
     "output_type": "stream",
     "text": [
      "\u001b[1m9/9\u001b[0m \u001b[32m━━━━━━━━━━━━━━━━━━━━\u001b[0m\u001b[37m\u001b[0m \u001b[1m0s\u001b[0m 693us/step - loss: 0.1588\n",
      "Test Loss (Mean Squared Error): 0.1680583953857422\n",
      "\n",
      "\u001b[1m9/9\u001b[0m \u001b[32m━━━━━━━━━━━━━━━━━━━━\u001b[0m\u001b[37m\u001b[0m \u001b[1m0s\u001b[0m 2ms/step \n",
      "R² Score: 0.8781121509749372\n",
      "\n",
      "Actual: 9095.06825, Predicted: 10643.34765625\n",
      "Actual: 5272.1758, Predicted: 6452.68798828125\n",
      "Actual: 29330.98315, Predicted: 29259.744140625\n",
      "Actual: 9301.89355, Predicted: 9031.486328125\n",
      "Actual: 33750.2918, Predicted: 29830.265625\n"
     ]
    }
   ],
   "source": [
    "# Compiling the model\n",
    "\n",
    "model.compile(optimizer='adam', loss='mean_squared_error')\n",
    "\n",
    "# Early stopping callback to prevent overfitting\n",
    "\n",
    "early_stopping = EarlyStopping(monitor='val_loss', patience=10, restore_best_weights=True)\n",
    "\n",
    "# Training the model\n",
    "\n",
    "history = model.fit(X_train_scaled, y_train_scaled, validation_split=0.2, epochs=200, batch_size=32, verbose=0, \n",
    "                    callbacks=[early_stopping])\n",
    "\n",
    "# Evaluating the model on the test set\n",
    "\n",
    "test_loss = model.evaluate(X_test_scaled, y_test_scaled)  # Use scaled target variable for evaluation\n",
    "print(f'Test Loss (Mean Squared Error): {test_loss}')\n",
    "print()\n",
    "\n",
    "# Making predictions on the test set\n",
    "\n",
    "y_pred_scaled = model.predict(X_test_scaled)\n",
    "\n",
    "# Inverse transform the scaled predictions to get them back to the original scale\n",
    "\n",
    "y_pred = scaler_y.inverse_transform(y_pred_scaled)\n",
    "\n",
    "# Calculate the R² score\n",
    "\n",
    "r2 = r2_score(y_test, y_pred)\n",
    "print(f\"R² Score: {r2}\")\n",
    "print()\n",
    "\n",
    "# Displaying first few predictions vs actual values\n",
    "\n",
    "for i in range(5):\n",
    "    print(f\"Actual: {y_test.values[i]}, Predicted: {y_pred[i][0]}\")"
   ]
  },
  {
   "cell_type": "code",
   "execution_count": 39,
   "id": "e3050be1-77c6-4c9c-a11c-3fad693082ed",
   "metadata": {},
   "outputs": [
    {
     "data": {
      "image/png": "[encoded data removed]",
      "text/plain": [
       "<Figure size 640x480 with 1 Axes>"
      ]
     },
     "metadata": {},
     "output_type": "display_data"
    }
   ],
   "source": [
    "# Plotting the training and validation loss curves to analyze overfitting\n",
    "\n",
    "plt.plot(history.history['loss'], label='Training Loss')\n",
    "plt.plot(history.history['val_loss'], label='Validation Loss')\n",
    "plt.title('Training and Validation Loss')\n",
    "plt.xlabel('Epochs')\n",
    "plt.ylabel('Loss')\n",
    "plt.legend()\n",
    "plt.show()"
   ]
  },
  {
   "cell_type": "raw",
   "id": "007471a5-1f1f-433d-ab45-190ca70a8972",
   "metadata": {},
   "source": [
    "* Summary of Model Performance\n",
    "\n",
    "Test Loss (Mean Squared Error): Achieved a test loss of 0.1680, indicating low average squared differences between predicted and actual values, suggesting the model is effective in estimating insurance charges.\n",
    "\n",
    "R² Score: The R² score of 0.8735 indicates that approximately 87.35% of the variance in insurance charges can be explained by the model, reflecting strong predictive capability with room for improvement.\n",
    "\n",
    "Example Predictions:\n",
    "Actual: $9,095.07 | Predicted: $10,220.28\n",
    "Actual: $5,272.18 | Predicted: $6,012.44\n",
    "Actual: $29,330.98 | Predicted: $31,758.94\n",
    "Actual: $9,301.89 | Predicted: $8,256.97\n",
    "Actual: $33,750.29 | Predicted: $32,097.02\n",
    "\n",
    "Loss Reduction: Decreasing loss values indicate effective learning and improved alignment of predictions with actual charges, demonstrating the model's ability to identify relationships between features and the target variable.\n",
    "\n",
    "Model Structure: The neural network features three hidden layers (128, 64, and 32 neurons), which are well-suited for capturing the dataset's underlying patterns and complexities.\n",
    "\n",
    "Sample Predictions: The model's ability to predict various risk levels is shown in predictions like $10,571.46, $6,234.67, $33,452.65, $9,651.48, and $28,388.78, reflecting its effectiveness in addressing diverse scenarios within the dataset.\n"
   ]
  },
  {
   "cell_type": "code",
   "execution_count": null,
   "id": "1c3ac299-03fa-4931-9414-d5b263fab3e2",
   "metadata": {},
   "outputs": [],
   "source": []
  }
 ],
 "metadata": {
  "kernelspec": {
   "display_name": "Python 3 (ipykernel)",
   "language": "python",
   "name": "python3"
  },
  "language_info": {
   "codemirror_mode": {
    "name": "ipython",
    "version": 3
   },
   "file_extension": ".py",
   "mimetype": "text/x-python",
   "name": "python",
   "nbconvert_exporter": "python",
   "pygments_lexer": "ipython3",
   "version": "3.12.4"
  }
 },
 "nbformat": 4,
 "nbformat_minor": 5
}
